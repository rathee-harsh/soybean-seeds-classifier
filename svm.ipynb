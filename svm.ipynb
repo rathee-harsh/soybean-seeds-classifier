{
 "cells": [
  {
   "cell_type": "code",
   "execution_count": null,
   "metadata": {},
   "outputs": [],
   "source": [
    "#Import all the libraries\n",
    "\n",
    "import os\n",
    "import numpy as np\n",
    "import pathlib\n",
    "\n",
    "from skimage.io import imread\n",
    "from sklearn.preprocessing import LabelEncoder\n",
    "from sklearn.model_selection import train_test_split\n",
    "from sklearn.svm import SVC\n",
    "from sklearn.metrics import accuracy_score, classification_report\n",
    "from sklearn.decomposition import PCA"
   ]
  },
  {
   "cell_type": "code",
   "execution_count": null,
   "metadata": {},
   "outputs": [],
   "source": [
    "# Define the path to the directory containing the image folders\n",
    "data_dir = pathlib.Path('./images/').with_suffix('')\n",
    "\n",
    "Categories = ['Broken soybeans', 'Immature soybeans', 'Intact soybeans', 'Skin-damaged soybeans', 'Spotted soybeans']\n",
    "image_data = []  # List to store flattened image vectors\n",
    "labels = []  # List to store category labels\n",
    "\n",
    "\n",
    "for category in Categories:\n",
    "    print(f'Loading category: {category}')\n",
    "    path = os.path.join(data_dir, category)\n",
    "    \n",
    "    # Loop through each image in the category folder\n",
    "    for img_filename in os.listdir(path):\n",
    "        img_path = os.path.join(path, img_filename)\n",
    "        \n",
    "        # Read the image using scikit-image\n",
    "        img = imread(img_path)\n",
    "        \n",
    "        # Flatten the image and add it to the data\n",
    "        image_data.append(img.flatten())\n",
    "        \n",
    "        # Add the label (category) to the labels list\n",
    "        labels.append(category)\n",
    "\n",
    "image_data = np.array(image_data)\n",
    "label_encoder = LabelEncoder()\n",
    "encoded_labels = label_encoder.fit_transform(labels)"
   ]
  },
  {
   "cell_type": "code",
   "execution_count": null,
   "metadata": {},
   "outputs": [],
   "source": [
    "n_components = 50\n",
    "pca = PCA(n_components=n_components, random_state=42)\n",
    "image_data_pca = pca.fit_transform(image_data)"
   ]
  },
  {
   "cell_type": "code",
   "execution_count": null,
   "metadata": {},
   "outputs": [],
   "source": [
    "# 80-20 split\n",
    "X_train_pca, X_test_pca, y_train, y_test = train_test_split(image_data_pca, encoded_labels, test_size=0.2, random_state=42)\n",
    "\n",
    "# Create an SVM model with a linear kernel\n",
    "svm_model = SVC(kernel='linear', random_state=42)\n",
    "\n",
    "# Train the SVM model on the PCA-transformed training data\n",
    "svm_model.fit(X_train_pca, y_train)\n",
    "\n",
    "# Evaluate the svm_model on the PCA-transformed testing data\n",
    "y_pred_pca = svm_model.predict(X_test_pca)\n",
    "accuracy_pca = accuracy_score(y_test, y_pred_pca)\n",
    "report_pca = classification_report(y_test, y_pred_pca)\n",
    "\n",
    "print(f'Accuracy with PCA: {accuracy_pca}')\n",
    "print(f'Classification Report with PCA:\\n{report_pca}')"
   ]
  }
 ],
 "metadata": {
  "language_info": {
   "name": "python"
  }
 },
 "nbformat": 4,
 "nbformat_minor": 2
}
